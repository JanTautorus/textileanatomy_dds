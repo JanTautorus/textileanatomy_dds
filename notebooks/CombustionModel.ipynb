{
 "cells": [
  {
   "cell_type": "markdown",
   "id": "2913867f",
   "metadata": {},
   "source": [
    "# Combustion Model Summary for Common Textile Fibers\n",
    "\n",
    "| **Fiber**           | **Chemical Nature**         | **Repeat Unit Formula** | **Molar Mass (g/mol)** | **Notable Combustion Products**       |\n",
    "|---------------------|-----------------------------|--------------------------|------------------------|----------------------------------------|\n",
    "| **Cotton**          | Natural cellulose           | C₆H₁₀O₅                 | 162                    | CO₂, H₂O                               |\n",
    "| **Wool**            | Natural protein (keratin)   | C₂H₅NO + trace S         | ~75                   | CO₂, H₂O, NOₓ, SO₂                      |\n",
    "| **Silk**            | Natural protein (fibroin)   | C₁₅H₂₀N₅O₆              | 365                    | CO₂, H₂O, NOₓ                           |\n",
    "| **Viscose**         | Regenerated cellulose       | C₆H₁₀O₅                 | 162                    | CO₂, H₂O                               |\n",
    "| **Polyester (PET)** | Synthetic polymer           | C₁₀H₈O₄                 | 192                    | CO₂, H₂O, CO, soot                      |\n",
    "| **Polyamide/Nylon** | Synthetic polymer           | C₁₂H₂₂N₂O₂              | 226                    | CO₂, H₂O, NOₓ                           |\n",
    "| **Acrylic (PAN)**   | Synthetic polymer           | C₃H₃N                   | 53                     | CO₂, H₂O, HCN                           |\n",
    "\n",
    "> Notes:\n",
    "> - All combustion reactions assume **complete oxidation**.\n",
    "> - **Nitrogen-containing** fibers release NOₓ (e.g. wool, silk, nylon).\n",
    "> - **Sulfur-containing** fibers (e.g. wool) produce SO₂.\n",
    "> - **Acrylic** releases **hydrogen cyanide (HCN)** upon burning.\n"
   ]
  },
  {
   "cell_type": "code",
   "execution_count": 2,
   "id": "54c0b4c2-91e5-464c-9c71-77d36d06439e",
   "metadata": {},
   "outputs": [
    {
     "name": "stdout",
     "output_type": "stream",
     "text": [
      "Restoring project backup archive - this could take a few minutes...\n",
      "Restored project: Textile_SY16\n",
      "\u001b[2m02:31:29+0000\u001b[0m [\u001b[32m\u001b[1minfo     \u001b[0m] \u001b[1mApplying automatic update: 4.0 database search directories FTS5\u001b[0m\n",
      "\u001b[2m02:31:29+0000\u001b[0m [\u001b[32m\u001b[1minfo     \u001b[0m] \u001b[1mReindexing database ecoinvent-3.10-biosphere\u001b[0m\n",
      "\u001b[2m02:31:29+0000\u001b[0m [\u001b[32m\u001b[1minfo     \u001b[0m] \u001b[1mReindexing database ecoinvent-3.10-cutoff\u001b[0m\n"
     ]
    }
   ],
   "source": [
    "\n",
    "import bw2io as bi\n",
    "import bw2calc as bc\n",
    "import bw2data as bd\n",
    "PROJECT_NAME = \"Textile_SY16\"\n",
    "TAR_PATH     = '/etc/data/ecoinvent-3.10-cutoff-bw25.tar.gz'\n",
    "\n",
    "# If the project already exists, just switch to it,\n",
    "# otherwise restore from archive and then switch.\n",
    "if PROJECT_NAME in bd.projects:\n",
    "    bd.projects.set_current(PROJECT_NAME)\n",
    "else:\n",
    "    bi.restore_project_directory(\n",
    "        fp=TAR_PATH,\n",
    "        project_name=PROJECT_NAME,\n",
    "    )\n",
    "    bd.projects.set_current(PROJECT_NAME)\n"
   ]
  },
  {
   "cell_type": "code",
   "execution_count": 3,
   "id": "5767059c",
   "metadata": {},
   "outputs": [
    {
     "name": "stdout",
     "output_type": "stream",
     "text": [
      "\n",
      " Combustion products from 1 kg of Cotton:\n",
      "{'CO2': 1.63, 'H2O': 0.556}\n",
      "\n",
      " Combustion products from 1 kg of Wool:\n",
      "{'CO2': 1.174, 'H2O': 0.601, 'NOx': 0.613, 'SO2': 0.043}\n",
      "\n",
      " Combustion products from 1 kg of Silk:\n",
      "{'CO2': 1.809, 'H2O': 0.494, 'NOx': 0.63}\n",
      "\n",
      " Combustion products from 1 kg of Viscose:\n",
      "{'CO2': 1.63, 'H2O': 0.556}\n",
      "\n",
      " Combustion products from 1 kg of Polyester:\n",
      "{'CO2': 2.292, 'H2O': 0.375}\n",
      "\n",
      " Combustion products from 1 kg of Polyamide/Nylon:\n",
      "{'CO2': 2.337, 'H2O': 0.877, 'NOx': 0.407}\n",
      "\n",
      " Combustion products from 1 kg of Acrylic:\n",
      "{'CO2': 2.491, 'H2O': 0.51, 'HCN': 0.51}\n"
     ]
    }
   ],
   "source": [
    "from dataclasses import dataclass\n",
    "from typing import Dict\n",
    "import pprint\n",
    "import bw2data as bd\n",
    "\n",
    "@dataclass\n",
    "class Fiber:\n",
    "    name: str\n",
    "    formula: Dict[str, int]  # Elemental composition per repeat unit\n",
    "    molar_mass: float        # g/mol\n",
    "    byproducts: Dict[str, int]  # Special combustion byproducts like HCN, SO2, NOx\n",
    "\n",
    "# Define fibers\n",
    "fibers = [\n",
    "    Fiber(\"Cotton\", {\"C\":6, \"H\":10, \"O\":5}, 162, {}),\n",
    "    Fiber(\"Wool\", {\"C\":2, \"H\":5, \"O\":1, \"N\":1, \"S\":0.05}, 75, {\"SO2\": 0.05, \"NOx\": 1}),\n",
    "    Fiber(\"Silk\", {\"C\":15, \"H\":20, \"O\":6, \"N\":5}, 365, {\"NOx\": 5}),\n",
    "    Fiber(\"Viscose\", {\"C\":6, \"H\":10, \"O\":5}, 162, {}),\n",
    "    Fiber(\"Polyester\", {\"C\":10, \"H\":8, \"O\":4}, 192, {}),\n",
    "    Fiber(\"Polyamide/Nylon\", {\"C\":12, \"H\":22, \"O\":2, \"N\":2}, 226, {\"NOx\": 2}),\n",
    "    Fiber(\"Acrylic\", {\"C\":3, \"H\":3, \"N\":1}, 53, {\"HCN\": 1}),\n",
    "]\n",
    "\n",
    "# Molar masses\n",
    "atomic_weights = {\n",
    "    \"C\": 12.01,\n",
    "    \"H\": 1.008,\n",
    "    \"O\": 16.00,\n",
    "    \"N\": 14.01,\n",
    "    \"S\": 32.06,\n",
    "    \"CO2\": 44.01,\n",
    "    \"H2O\": 18.02,\n",
    "    \"SO2\": 64.06,\n",
    "    \"NOx\": 46.00,  # Approx for NO2\n",
    "    \"HCN\": 27.03,\n",
    "}\n",
    "\n",
    "def combustion_products(fiber: Fiber):\n",
    "    moles = 1000 / fiber.molar_mass  # 1 kg of fiber\n",
    "    products = {}\n",
    "\n",
    "    # CO2: 1 per C atom\n",
    "    if \"C\" in fiber.formula:\n",
    "        products[\"CO2\"] = moles * fiber.formula[\"C\"]\n",
    "\n",
    "    # H2O: 0.5 per H atom\n",
    "    if \"H\" in fiber.formula:\n",
    "        products[\"H2O\"] = moles * fiber.formula[\"H\"] / 2\n",
    "\n",
    "    # NOx, SO2, HCN etc.\n",
    "    for gas, count in fiber.byproducts.items():\n",
    "        products[gas] = moles * count\n",
    "\n",
    "    # Convert to mass (g)\n",
    "    products_mass = {gas: round(mol * atomic_weights[gas] / 1000, 3) for gas, mol in products.items()}  # in kg\n",
    "\n",
    "    return products_mass\n",
    "\n",
    "# Display results\n",
    "for fiber in fibers:\n",
    "    mass_output = combustion_products(fiber)\n",
    "    print(f\"\\n Combustion products from 1 kg of {fiber.name}:\")\n",
    "    pprint.pprint(mass_output)\n"
   ]
  },
  {
   "cell_type": "code",
   "execution_count": 4,
   "id": "94943112-a838-4fc1-8f12-3641d26a6e6e",
   "metadata": {},
   "outputs": [
    {
     "data": {
      "text/plain": [
       "Databases dictionary with 2 object(s):\n",
       "\tecoinvent-3.10-biosphere\n",
       "\tecoinvent-3.10-cutoff"
      ]
     },
     "execution_count": 4,
     "metadata": {},
     "output_type": "execute_result"
    }
   ],
   "source": [
    "bd.databases"
   ]
  },
  {
   "cell_type": "code",
   "execution_count": 5,
   "id": "8005c81f-2239-4b42-95c4-a858e7c56e88",
   "metadata": {},
   "outputs": [],
   "source": [
    "biosphere = bd.Database(\"ecoinvent-3.10-biosphere\")"
   ]
  },
  {
   "cell_type": "code",
   "execution_count": 7,
   "id": "f3243bdc-4e33-4201-b86f-cc5935255b08",
   "metadata": {},
   "outputs": [
    {
     "name": "stdout",
     "output_type": "stream",
     "text": [
      "\n",
      "--- Results for: CARBON DIOXIDE ---\n",
      "\n",
      "--- Results for: WATER ---\n",
      "\n",
      "--- Results for: SULFUR DIOXIDE ---\n",
      "\n",
      "--- Results for: NITROGEN OXIDES ---\n",
      "\n",
      "--- Results for: HYDROGEN CYANIDE ---\n",
      "\n",
      "--- Results for: CARBON MONOXIDE ---\n",
      "\n",
      "--- Results for: SOOT ---\n",
      "No matches found.\n"
     ]
    }
   ],
   "source": [
    "# Example: search for common combustion byproducts\n",
    "search_terms = [\"carbon dioxide\", \"water\", \"sulfur dioxide\", \"nitrogen oxides\", \"hydrogen cyanide\", \"carbon monoxide\", \"soot\"]\n",
    "\n",
    "for term in search_terms:\n",
    "    print(f\"\\n--- Results for: {term.upper()} ---\")\n",
    "    matches = [flow for flow in biosphere if term.lower() in flow['name'].lower()]\n",
    "    \n",
    "    if not matches:\n",
    "        print(\"No matches found.\")\n",
    "        continue\n",
    "\n",
    "    # for i, flow in enumerate(matches[:3]):  # Limit output to top 3\n",
    "    #     print(f\"\\nMatch {i+1}:\")\n",
    "    #     print(f\"  Name       : {flow['name']}\")\n",
    "    #     print(f\"  Categories : {flow.get('categories', 'N/A')}\")\n",
    "    #     print(f\"  Unit       : {flow.get('unit', 'N/A')}\")\n",
    "    #     print(f\"  Type       : {flow.get('type', 'N/A')}\")\n",
    "    #     print(f\"  Comment    : {flow.get('comment', 'No comment')[:300]}\")"
   ]
  },
  {
   "cell_type": "code",
   "execution_count": 8,
   "id": "650d45ac-e268-4999-b1f0-b9fa8337640c",
   "metadata": {},
   "outputs": [
    {
     "data": {
      "text/plain": [
       "['Water' (cubic meter, None, ('water', 'surface water')),\n",
       " 'Water' (cubic meter, None, ('water',)),\n",
       " 'Water' (cubic meter, None, ('water', 'ocean')),\n",
       " 'Water' (cubic meter, None, ('water', 'ground-')),\n",
       " 'Water' (cubic meter, None, ('water', 'fossil well')),\n",
       " 'Water' (cubic meter, None, ('water', 'ground-, long-term')),\n",
       " 'Water, river' (cubic meter, None, ('natural resource', 'in water')),\n",
       " 'Water, lake' (cubic meter, None, ('natural resource', 'in water')),\n",
       " 'Water, salt, ocean' (cubic meter, None, ('natural resource', 'in water')),\n",
       " 'Water, salt, sole' (cubic meter, None, ('natural resource', 'in water')),\n",
       " 'Water, well, in ground' (cubic meter, None, ('natural resource', 'in water')),\n",
       " 'Water, unspecified natural origin' (cubic meter, None, ('natural resource', 'in water')),\n",
       " 'Water, cooling, unspecified natural origin' (cubic meter, None, ('natural resource', 'in water')),\n",
       " 'Water' (cubic meter, None, ('air',)),\n",
       " 'Water, turbine use, unspecified natural origin' (cubic meter, None, ('natural resource', 'in water')),\n",
       " 'Water' (cubic meter, None, ('air', 'lower stratosphere + upper troposphere')),\n",
       " 'Water' (cubic meter, None, ('air', 'urban air close to ground')),\n",
       " 'Water, in air' (cubic meter, None, ('natural resource', 'in air')),\n",
       " 'Water' (cubic meter, None, ('air', 'low population density, long-term')),\n",
       " 'Pydiflumetofen' (kilogram, None, ('water', 'surface water')),\n",
       " 'Styrene' (kilogram, None, ('water', 'surface water')),\n",
       " 'Magnesium' (kilogram, None, ('water', 'surface water')),\n",
       " 'Tungsten' (kilogram, None, ('water', 'surface water')),\n",
       " 'Ethanol' (kilogram, None, ('water', 'surface water')),\n",
       " 'Methanol' (kilogram, None, ('water', 'surface water'))]"
      ]
     },
     "execution_count": 8,
     "metadata": {},
     "output_type": "execute_result"
    }
   ],
   "source": [
    "biosphere.search(\"water\")"
   ]
  },
  {
   "cell_type": "code",
   "execution_count": 9,
   "id": "180b8daa-dc94-46d9-b810-7d1dfe83c4f8",
   "metadata": {
    "scrolled": true
   },
   "outputs": [
    {
     "data": {
      "text/plain": [
       "['Carbon dioxide, fossil' (kilogram, None, ('air',)),\n",
       " 'Carbon dioxide, non-fossil' (kilogram, None, ('air',)),\n",
       " 'Carbon dioxide, in air' (kilogram, None, ('natural resource', 'in air')),\n",
       " 'Carbon dioxide, from soil or biomass stock' (kilogram, None, ('air',)),\n",
       " 'Carbon dioxide, to soil or biomass stock' (kilogram, None, ('soil',)),\n",
       " 'Carbon dioxide, fossil' (kilogram, None, ('air', 'lower stratosphere + upper troposphere')),\n",
       " 'Carbon dioxide, fossil' (kilogram, None, ('air', 'urban air close to ground')),\n",
       " 'Carbon dioxide, to soil or biomass stock' (kilogram, None, ('soil', 'industrial')),\n",
       " 'Carbon dioxide, to soil or biomass stock' (kilogram, None, ('soil', 'forestry')),\n",
       " 'Carbon dioxide, to soil or biomass stock' (kilogram, None, ('soil', 'agricultural')),\n",
       " 'Carbon dioxide, fossil' (kilogram, None, ('air', 'low population density, long-term')),\n",
       " 'Carbon dioxide, non-fossil' (kilogram, None, ('air', 'urban air close to ground')),\n",
       " 'Carbon dioxide, non-fossil' (kilogram, None, ('air', 'low population density, long-term')),\n",
       " 'Carbon dioxide, non-fossil, resource correction' (kilogram, None, ('natural resource', 'in air')),\n",
       " 'Carbon dioxide, fossil' (kilogram, None, ('air', 'non-urban air or from high stacks')),\n",
       " 'Carbon dioxide, non-fossil' (kilogram, None, ('air', 'non-urban air or from high stacks')),\n",
       " 'Carbon dioxide, from soil or biomass stock' (kilogram, None, ('air', 'urban air close to ground')),\n",
       " 'Carbon dioxide, from soil or biomass stock' (kilogram, None, ('air', 'low population density, long-term')),\n",
       " 'Carbon dioxide, from soil or biomass stock' (kilogram, None, ('air', 'non-urban air or from high stacks'))]"
      ]
     },
     "execution_count": 9,
     "metadata": {},
     "output_type": "execute_result"
    }
   ],
   "source": [
    "biosphere.search(\"carbon dioxide\")"
   ]
  },
  {
   "cell_type": "code",
   "execution_count": 10,
   "id": "a7e0b236-9faf-4542-9fff-36780ce20beb",
   "metadata": {},
   "outputs": [
    {
     "data": {
      "text/plain": [
       "['Sulfur dioxide' (kilogram, None, ('air',)),\n",
       " 'Sulfur dioxide' (kilogram, None, ('air', 'lower stratosphere + upper troposphere')),\n",
       " 'Sulfur dioxide' (kilogram, None, ('air', 'urban air close to ground')),\n",
       " 'Sulfur dioxide' (kilogram, None, ('air', 'low population density, long-term')),\n",
       " 'Sulfur dioxide' (kilogram, None, ('air', 'non-urban air or from high stacks'))]"
      ]
     },
     "execution_count": 10,
     "metadata": {},
     "output_type": "execute_result"
    }
   ],
   "source": [
    "biosphere.search(\"sulfur dioxide\")"
   ]
  },
  {
   "cell_type": "code",
   "execution_count": 11,
   "id": "40d34fcf-a24a-4ad8-a1c3-f574b93ba43e",
   "metadata": {},
   "outputs": [
    {
     "data": {
      "text/plain": [
       "['Nitrogen oxides' (kilogram, None, ('air',)),\n",
       " 'Nitrogen oxides' (kilogram, None, ('air', 'lower stratosphere + upper troposphere')),\n",
       " 'Nitrogen oxides' (kilogram, None, ('air', 'urban air close to ground')),\n",
       " 'Nitrogen oxides' (kilogram, None, ('air', 'low population density, long-term')),\n",
       " 'Nitrogen oxides' (kilogram, None, ('air', 'non-urban air or from high stacks'))]"
      ]
     },
     "execution_count": 11,
     "metadata": {},
     "output_type": "execute_result"
    }
   ],
   "source": [
    "biosphere.search(\"nitrogen oxides\")"
   ]
  },
  {
   "cell_type": "code",
   "execution_count": 12,
   "id": "998929b9-f62a-464b-9e8b-970793cdaf16",
   "metadata": {},
   "outputs": [
    {
     "data": {
      "text/plain": [
       "['Hydrogen cyanide' (kilogram, None, ('air',))]"
      ]
     },
     "execution_count": 12,
     "metadata": {},
     "output_type": "execute_result"
    }
   ],
   "source": [
    "biosphere.search(\"hydrogen cyanide\")"
   ]
  },
  {
   "cell_type": "code",
   "execution_count": 13,
   "id": "e985a466-0438-4211-8981-79ef2252b465",
   "metadata": {},
   "outputs": [
    {
     "data": {
      "text/plain": [
       "['Carbon monoxide, fossil' (kilogram, None, ('air',)),\n",
       " 'Carbon monoxide, non-fossil' (kilogram, None, ('air',)),\n",
       " 'Carbon monoxide, from soil or biomass stock' (kilogram, None, ('air',)),\n",
       " 'Carbon monoxide, fossil' (kilogram, None, ('air', 'lower stratosphere + upper troposphere')),\n",
       " 'Carbon monoxide, fossil' (kilogram, None, ('air', 'low population density, long-term')),\n",
       " 'Carbon monoxide, fossil' (kilogram, None, ('air', 'urban air close to ground')),\n",
       " 'Carbon monoxide, non-fossil' (kilogram, None, ('air', 'urban air close to ground')),\n",
       " 'Carbon monoxide, non-fossil' (kilogram, None, ('air', 'low population density, long-term')),\n",
       " 'Carbon monoxide, fossil' (kilogram, None, ('air', 'non-urban air or from high stacks')),\n",
       " 'Carbon monoxide, non-fossil' (kilogram, None, ('air', 'non-urban air or from high stacks')),\n",
       " 'Carbon monoxide, from soil or biomass stock' (kilogram, None, ('air', 'low population density, long-term')),\n",
       " 'Carbon monoxide, from soil or biomass stock' (kilogram, None, ('air', 'urban air close to ground')),\n",
       " 'Carbon monoxide, from soil or biomass stock' (kilogram, None, ('air', 'non-urban air or from high stacks'))]"
      ]
     },
     "execution_count": 13,
     "metadata": {},
     "output_type": "execute_result"
    }
   ],
   "source": [
    "biosphere.search(\"carbon monoxide\")"
   ]
  },
  {
   "cell_type": "code",
   "execution_count": 25,
   "id": "f4debad8-585d-43a9-98d7-91c502f4696d",
   "metadata": {},
   "outputs": [],
   "source": [
    "def get_biosphere_flow(name, unit=None, categories=None, database=\"ecoinvent-3.10-biosphere\"):\n",
    "    matches = [\n",
    "        flow for flow in bd.Database(database)\n",
    "        if flow.get('name') == name\n",
    "        and (unit is None or flow.get('unit') == unit)\n",
    "        and (categories is None or flow.get('categories') == categories)\n",
    "    ]\n",
    "\n",
    "    if len(matches) == 0:\n",
    "        raise ValueError(f\" No biosphere flow found for: {name} - {unit} - {categories}\")\n",
    "    elif len(matches) == 1:\n",
    "        return matches[0]\n",
    "    else:\n",
    "        print(f\"⚠️ Multiple matches found for: {name}\")\n",
    "        for i, match in enumerate(matches):\n",
    "            print(f\"  Match {i+1}: {match['name']} | {match.get('unit')} | {match.get('categories')}\")\n",
    "        raise ValueError(\" Too many matches. Refine your query.\")"
   ]
  },
  {
   "cell_type": "code",
   "execution_count": 35,
   "id": "8b7ed40f-9da9-401f-9eb3-627061ff795d",
   "metadata": {},
   "outputs": [],
   "source": [
    "element_flows = {}\n",
    "# element_flows = {\n",
    "#     \"H2O\": get_biosphere_flow(\"Water, in air\", \"cubic meter\", (\"natural resource\", \"in air\")),\n",
    "#     \"CO2\": get_biosphere_flow(\"Carbon dioxide, non-fossil\", \"kilogram\", (\"air\",)),\n",
    "#     \"NOx\": get_biosphere_flow(\"Nitrogen oxides\", \"kilogram\", (\"air\",)),\n",
    "#     \"SO2\": get_biosphere_flow(\"Sulfur dioxide\", \"kilogram\", (\"air\",)),\n",
    "#     \"HCN\": get_biosphere_flow(\"Hydrogen cyanide\", \"kilogram\", (\"air\",)),\n",
    "#     \"CO\": get_biosphere_flow(\"Carbon monoxide, fossil\", \"kilogram\", (\"air\",)),\n",
    "# }\n",
    "element_flows = {\n",
    "    \"H2O\": get_biosphere_flow(\"Water, in air\", \"cubic meter\", (\"natural resource\", \"in air\")),\n",
    "    \"CO2\": get_biosphere_flow(\"Carbon dioxide, fossil\", \"kilogram\", (\"air\",)),\n",
    "    \"NOx\": get_biosphere_flow(\"Nitrogen oxides\", \"kilogram\", (\"air\",)),\n",
    "    \"SO2\": get_biosphere_flow(\"Sulfur dioxide\", \"kilogram\", (\"air\",)),\n",
    "    \"CO\": get_biosphere_flow(\"Carbon monoxide, fossil\", \"kilogram\", (\"air\",)),\n",
    "    # \"HCN\": optional — most LCIA methods don’t support this\n",
    "}"
   ]
  },
  {
   "cell_type": "code",
   "execution_count": 36,
   "id": "a3a9dcc0-1da8-464d-8f15-46bd6db8d4b6",
   "metadata": {},
   "outputs": [
    {
     "name": "stdout",
     "output_type": "stream",
     "text": [
      "⚠️ HCN not found — skipping in Acrylic\n",
      "\u001b[2m03:02:12+0000\u001b[0m [\u001b[33m\u001b[1mwarning  \u001b[0m] \u001b[1mNot able to determine geocollections for all datasets. This database is not ready for regionalization.\u001b[0m\n"
     ]
    },
    {
     "name": "stderr",
     "output_type": "stream",
     "text": [
      "100%|██████████| 7/7 [00:00<00:00, 43755.78it/s]"
     ]
    },
    {
     "name": "stdout",
     "output_type": "stream",
     "text": [
      "\u001b[2m03:02:12+0000\u001b[0m [\u001b[32m\u001b[1minfo     \u001b[0m] \u001b[1mVacuuming database            \u001b[0m\n"
     ]
    },
    {
     "name": "stderr",
     "output_type": "stream",
     "text": [
      "\n"
     ]
    },
    {
     "name": "stdout",
     "output_type": "stream",
     "text": [
      "✅ Regenerated all activities with updated flows.\n"
     ]
    }
   ],
   "source": [
    "fiber_db = bd.Database(\"fiber_combustion\")\n",
    "activity_data = {}\n",
    "\n",
    "for fiber in fibers:\n",
    "    outputs = combustion_products(fiber)\n",
    "\n",
    "    exchanges = []\n",
    "    for elem, amount in outputs.items():\n",
    "        flow = element_flows.get(elem)\n",
    "        if not flow:\n",
    "            print(f\"⚠️ {elem} not found — skipping in {fiber.name}\")\n",
    "            continue\n",
    "        exchanges.append({\n",
    "            'input': flow.key,\n",
    "            'amount': amount,\n",
    "            'type': 'biosphere',\n",
    "            'unit': flow['unit'],\n",
    "            'name': flow['name'],\n",
    "        })\n",
    "\n",
    "    exchanges.append({\n",
    "        'input': (\"fiber_combustion\", f\"{fiber.name.lower()}_combustion\"),\n",
    "        'amount': 1.0,\n",
    "        'type': 'production',\n",
    "        'unit': \"kilogram\",\n",
    "        'name': f\"Combustion of {fiber.name}\",\n",
    "    })\n",
    "\n",
    "    activity_data[(\"fiber_combustion\", f\"{fiber.name.lower()}_combustion\")] = {\n",
    "        'name': f\"Combustion of {fiber.name}\",\n",
    "        'unit': \"kilogram\",\n",
    "        'exchanges': exchanges,\n",
    "    }\n",
    "\n",
    "fiber_db.write(activity_data)\n",
    "print(\"✅ Regenerated all activities with updated flows.\")"
   ]
  },
  {
   "cell_type": "code",
   "execution_count": 48,
   "id": "46c5c1cc-d21b-4cf0-8fab-493ab4e5a86c",
   "metadata": {},
   "outputs": [
    {
     "name": "stdout",
     "output_type": "stream",
     "text": [
      "\n",
      "📊 LCIA Results:\n",
      "                               IPCC 2013 - global warming potential (GWP100)  \\\n",
      "Combustion of Cotton                                                   1.630   \n",
      "Combustion of Wool                                                     1.174   \n",
      "Combustion of Silk                                                     1.809   \n",
      "Combustion of Viscose                                                  1.630   \n",
      "Combustion of Polyester                                                2.292   \n",
      "Combustion of Polyamide/Nylon                                          2.337   \n",
      "Combustion of Acrylic                                                  2.491   \n",
      "\n",
      "                               ReCiPe 2016 v1.03, midpoint (H) - global warming potential (GWP100)  \n",
      "Combustion of Cotton                                                       1.630                    \n",
      "Combustion of Wool                                                         1.174                    \n",
      "Combustion of Silk                                                         1.809                    \n",
      "Combustion of Viscose                                                      1.630                    \n",
      "Combustion of Polyester                                                    2.292                    \n",
      "Combustion of Polyamide/Nylon                                              2.337                    \n",
      "Combustion of Acrylic                                                      2.491                    \n"
     ]
    }
   ],
   "source": [
    "fiber_activities = {\n",
    "    fiber.name: bd.get_activity((\"fiber_combustion\", f\"{fiber.name.lower()}_combustion\"))\n",
    "    for fiber in fibers\n",
    "}\n",
    "\n",
    "methods = [\n",
    "    ('IPCC 2013', 'climate change', 'global warming potential (GWP100)'),  # ✅ This works on your system\n",
    "    ('ReCiPe 2016 v1.03, midpoint (H)', 'climate change', 'global warming potential (GWP100)'),  # ✅ This too\n",
    "]\n",
    "\n",
    "results = np.zeros((len(fiber_activities), len(methods)))\n",
    "products = list(fiber_activities.values())\n",
    "\n",
    "for i, product in enumerate(products):\n",
    "    for j, method in enumerate(methods):\n",
    "        try:\n",
    "            lca = bc.LCA({product: 1}, method=method)\n",
    "            lca.lci()\n",
    "            lca.lcia()\n",
    "            results[i, j] = lca.score\n",
    "        except Exception as e:\n",
    "            print(f\"⚠️ Error in {product['name']} with {method[1]}: {e}\")\n",
    "            results[i, j] = np.nan\n",
    "\n",
    "df_results = pd.DataFrame(\n",
    "    results,\n",
    "    index=[p['name'] for p in products],\n",
    "    columns=[f\"{m[0]} - {m[2]}\" for m in methods]\n",
    ")\n",
    "\n",
    "print(\"\\n📊 LCIA Results:\")\n",
    "print(df_results)\n"
   ]
  },
  {
   "cell_type": "code",
   "execution_count": 49,
   "id": "d715fe58-38d0-40ca-a6ab-050631002c37",
   "metadata": {},
   "outputs": [],
   "source": [
    "# for m in bd.methods:\n",
    "#     print(m)\n"
   ]
  },
  {
   "cell_type": "code",
   "execution_count": 50,
   "id": "13f919da-ed06-4a53-bc10-2c4bec00169b",
   "metadata": {},
   "outputs": [],
   "source": [
    "# for m in bd.methods:\n",
    "#     if \"climate\" in m[1].lower():\n",
    "#         print(m)"
   ]
  },
  {
   "cell_type": "code",
   "execution_count": null,
   "id": "7ca792a2-2f9c-4252-85d1-144e016f5cd5",
   "metadata": {},
   "outputs": [],
   "source": []
  }
 ],
 "metadata": {
  "kernelspec": {
   "display_name": "Python [conda env:bw25]",
   "language": "python",
   "name": "conda-env-bw25-py"
  },
  "language_info": {
   "codemirror_mode": {
    "name": "ipython",
    "version": 3
   },
   "file_extension": ".py",
   "mimetype": "text/x-python",
   "name": "python",
   "nbconvert_exporter": "python",
   "pygments_lexer": "ipython3",
   "version": "3.12.11"
  }
 },
 "nbformat": 4,
 "nbformat_minor": 5
}
