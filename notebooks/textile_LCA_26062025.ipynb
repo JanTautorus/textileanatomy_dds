{
 "cells": [
  {
   "cell_type": "code",
   "execution_count": 1,
   "id": "f944c6a6-4168-47e2-a0a8-5a471a86ff9d",
   "metadata": {},
   "outputs": [],
   "source": [
    "import bw2data as bd\n",
    "import bw2io as bi\n",
    "import bw2calc as bc\n",
    "\n",
    "PROJECT_NAME = \"Textile_SY14\"\n",
    "TAR_PATH     = '/etc/data/ecoinvent-3.10-cutoff-bw25.tar.gz'\n",
    "\n",
    "# If the project already exists, just switch to it,\n",
    "# otherwise restore from archive and then switch.\n",
    "if PROJECT_NAME in bd.projects:\n",
    "    bd.projects.set_current(PROJECT_NAME)\n",
    "else:\n",
    "    bi.restore_project_directory(\n",
    "        fp=TAR_PATH,\n",
    "        project_name=PROJECT_NAME,\n",
    "    )\n",
    "    bd.projects.set_current(PROJECT_NAME)\n"
   ]
  },
  {
   "cell_type": "code",
   "execution_count": 2,
   "id": "ff1f7e61-c79c-4645-b8de-731555d366df",
   "metadata": {},
   "outputs": [
    {
     "data": {
      "text/plain": [
       "Databases dictionary with 2 object(s):\n",
       "\tecoinvent-3.10-biosphere\n",
       "\tecoinvent-3.10-cutoff"
      ]
     },
     "execution_count": 2,
     "metadata": {},
     "output_type": "execute_result"
    }
   ],
   "source": [
    "bd.databases"
   ]
  },
  {
   "cell_type": "code",
   "execution_count": 3,
   "id": "9ae6a6b7-fc84-4e78-848c-acb77ffb96b5",
   "metadata": {},
   "outputs": [],
   "source": [
    "db = bd.Database(\"ecoinvent-3.10-cutoff\")"
   ]
  },
  {
   "cell_type": "code",
   "execution_count": 4,
   "id": "c3b5b318-f245-44c1-b6c6-374cb3db3eef",
   "metadata": {},
   "outputs": [],
   "source": [
    "def get_unique_node(name, location, unit, reference_product, database=\"ecoinvent-3.10-cutoff\"):\n",
    "    matches = [\n",
    "        act for act in bd.Database(database)\n",
    "        if act.get('name') == name\n",
    "        and act.get('location') == location\n",
    "        and act.get('unit') == unit\n",
    "        and act.get('reference product') == reference_product\n",
    "    ]\n",
    "    \n",
    "    if len(matches) == 0:\n",
    "        raise ValueError(f\"No match found for: {name} - {location} - {unit} - {reference_product}\")\n",
    "    elif len(matches) == 1:\n",
    "        return matches[0]\n",
    "    elif len(matches) > 1:\n",
    "        raise ValueError(f\"Multiple matches found for: {name} - {location} - {unit} - {reference_product}\")"
   ]
  },
  {
   "cell_type": "code",
   "execution_count": 11,
   "id": "787e88d0-4bee-4724-8bb0-367b12c3353e",
   "metadata": {
    "scrolled": true
   },
   "outputs": [
    {
     "data": {
      "text/plain": [
       "{'acrylic': 'acrylic acid production' (kilogram, RER, None),\n",
       " 'cotton': 'fibre production, cotton, ginning' (kilogram, RoW, None),\n",
       " 'polyester': 'polyester fibre production, finished' (kilogram, RoW, None),\n",
       " 'viscose': 'fibre production, viscose' (kilogram, GLO, None),\n",
       " 'silk': 'market for fibre, silk, short' (kilogram, GLO, None),\n",
       " 'nylon': 'nylon 6-6 production' (kilogram, RoW, None),\n",
       " 'wool': 'sheep production, for wool' (kilogram, US, None)}"
      ]
     },
     "execution_count": 11,
     "metadata": {},
     "output_type": "execute_result"
    }
   ],
   "source": [
    "fiber_activities = {}\n",
    "\n",
    "fiber_activities[\"acrylic\"] = get_unique_node(\"acrylic acid production\", \"RER\", \"kilogram\", \"acrylic acid\")\n",
    "fiber_activities[\"cotton\"] = get_unique_node(\"fibre production, cotton, ginning\", \"RoW\", \"kilogram\", \"fibre, cotton\")\n",
    "fiber_activities[\"polyester\"] = get_unique_node(\"polyester fibre production, finished\", \"RoW\", \"kilogram\", \"fibre, polyester\")\n",
    "fiber_activities[\"viscose\"] = get_unique_node(\"fibre production, viscose\", \"GLO\", \"kilogram\", \"fibre, viscose\")\n",
    "fiber_activities[\"silk\"] = get_unique_node(\"market for fibre, silk, short\", \"GLO\", \"kilogram\", \"fibre, silk, short\")\n",
    "fiber_activities[\"nylon\"] = get_unique_node(\"nylon 6-6 production\", \"RoW\", \"kilogram\", \"nylon 6-6\")\n",
    "fiber_activities[\"wool\"] = get_unique_node(\"sheep production, for wool\", \"US\", \"kilogram\", \"sheep fleece in the grease\")\n",
    "fiber_activities\n"
   ]
  },
  {
   "cell_type": "code",
   "execution_count": 13,
   "id": "40a05fd4-ed8e-49dc-a390-706052ffecff",
   "metadata": {},
   "outputs": [
    {
     "name": "stdout",
     "output_type": "stream",
     "text": [
      "acrylic acid production:\n",
      "  climate change: fossil no LT → 2.289 kg CO₂-eq\n",
      "  climate change: land use no LT → 0.001 kg CO₂-eq\n",
      "fibre production, cotton, ginning:\n",
      "  climate change: fossil no LT → 1.442 kg CO₂-eq\n",
      "  climate change: land use no LT → 0.572 kg CO₂-eq\n",
      "polyester fibre production, finished:\n",
      "  climate change: fossil no LT → 4.488 kg CO₂-eq\n",
      "  climate change: land use no LT → 0.004 kg CO₂-eq\n",
      "fibre production, viscose:\n",
      "  climate change: fossil no LT → 3.083 kg CO₂-eq\n",
      "  climate change: land use no LT → 0.004 kg CO₂-eq\n",
      "market for fibre, silk, short:\n",
      "  climate change: fossil no LT → 0.010 kg CO₂-eq\n",
      "  climate change: land use no LT → 0.000 kg CO₂-eq\n",
      "nylon 6-6 production:\n",
      "  climate change: fossil no LT → 7.096 kg CO₂-eq\n",
      "  climate change: land use no LT → 0.000 kg CO₂-eq\n",
      "sheep production, for wool:\n",
      "  climate change: fossil no LT → 11.373 kg CO₂-eq\n",
      "  climate change: land use no LT → 4.756 kg CO₂-eq\n"
     ]
    }
   ],
   "source": [
    "import numpy as np\n",
    "\n",
    "# Example: list of activities (products) and LCIA method keys\n",
    "products = list(fiber_activities.values())\n",
    "methods = [\n",
    "    ('IPCC 2021 no LT', 'climate change: fossil no LT', 'global temperature change potential (GTP100) no LT'),\n",
    "    ('IPCC 2021 no LT', 'climate change: land use no LT', 'global temperature change potential (GTP100) no LT'),\n",
    "]\n",
    "\n",
    "results = np.zeros((len(products), len(methods)))\n",
    "\n",
    "def get_lcia_scores(products, methods, results):\n",
    "    # Initialize LCA with first product and method\n",
    "    lca = bc.LCA({products[0]: 1}, methods[0])\n",
    "    lca.lci()\n",
    "    lca.lcia()\n",
    "\n",
    "    # Cache characterization matrices\n",
    "    method_matrices = [lca.characterization_matrix.copy()]\n",
    "    for method in methods[1:]:\n",
    "        lca.switch_method(method)\n",
    "        method_matrices.append(lca.characterization_matrix.copy())\n",
    "\n",
    "    # Loop through products and compute scores for each method\n",
    "    for i, product in enumerate(products):\n",
    "        try:\n",
    "            lca.lci({product.id: 1})\n",
    "            for j, cf_matrix in enumerate(method_matrices):\n",
    "                results[i, j] = (cf_matrix @ lca.inventory).sum()\n",
    "        except Exception as e:\n",
    "            print(f\"Error in {product['name']}: {e}\")\n",
    "            results[i, :] = np.nan\n",
    "\n",
    "    return results\n",
    "\n",
    "# Run the batch LCA\n",
    "get_lcia_scores(products, methods, results)\n",
    "\n",
    "# Display results\n",
    "for i, product in enumerate(products):\n",
    "    print(f\"{product['name']}:\")\n",
    "    for j, method in enumerate(methods):\n",
    "        print(f\"  {method[1]} → {results[i, j]:.3f} kg CO₂-eq\")\n",
    "\n"
   ]
  },
  {
   "cell_type": "code",
   "execution_count": null,
   "id": "1b73cf24-9ec5-452c-a06b-1dadb0c0e11b",
   "metadata": {},
   "outputs": [],
   "source": []
  }
 ],
 "metadata": {
  "kernelspec": {
   "display_name": "Python 3 (ipykernel)",
   "language": "python",
   "name": "python3"
  },
  "language_info": {
   "codemirror_mode": {
    "name": "ipython",
    "version": 3
   },
   "file_extension": ".py",
   "mimetype": "text/x-python",
   "name": "python",
   "nbconvert_exporter": "python",
   "pygments_lexer": "ipython3",
   "version": "3.10.15"
  }
 },
 "nbformat": 4,
 "nbformat_minor": 5
}
