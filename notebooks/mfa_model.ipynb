{
 "cells": [
  {
   "cell_type": "code",
   "execution_count": 21,
   "id": "c112aeb3",
   "metadata": {},
   "outputs": [],
   "source": [
    "import numpy as np\n",
    "import pandas as pd\n",
    "import matplotlib.pyplot as plt\n",
    "import pickle\n",
    "import odym.classes as msc\n",
    "import odym.functions as msf\n",
    "import odym.dynamic_stock_model as dsm\n",
    "import os"
   ]
  },
  {
   "cell_type": "code",
   "execution_count": 22,
   "id": "2d3fc8b0",
   "metadata": {},
   "outputs": [],
   "source": [
    "DATA_PATH = os.path.join(os.path.dirname(os.getcwd()), \"data\")\n",
    "\n",
    "df = pd.read_excel(os.path.join(DATA_PATH, \"clustered_fiber_composition.xlsx\"))"
   ]
  },
  {
   "cell_type": "code",
   "execution_count": 23,
   "id": "a583cd58",
   "metadata": {},
   "outputs": [
    {
     "data": {
      "text/plain": [
       "['t-shirts',\n",
       " 'trousers',\n",
       " 'overcoats',\n",
       " 'underwear',\n",
       " 'handkerchiefs_1',\n",
       " 'shirts_1',\n",
       " 'sportswear',\n",
       " 'handkerchiefs_2',\n",
       " 'shirts_2',\n",
       " 'sweaters']"
      ]
     },
     "execution_count": 23,
     "metadata": {},
     "output_type": "execute_result"
    }
   ],
   "source": [
    "clothing_type = list(df[\"Clothing type\"])\n",
    "clothing_type"
   ]
  },
  {
   "cell_type": "code",
   "execution_count": 24,
   "id": "2085a694",
   "metadata": {},
   "outputs": [
    {
     "data": {
      "text/plain": [
       "['Acrylic',\n",
       " 'Cotton',\n",
       " 'Polyamide/nylon',\n",
       " 'Polyester',\n",
       " 'Silk',\n",
       " 'Viscose',\n",
       " 'Wool',\n",
       " 'Animal hair (alpaca, llama, camel, kashmir goat, angora goat, angora rabbit)']"
      ]
     },
     "execution_count": 24,
     "metadata": {},
     "output_type": "execute_result"
    }
   ],
   "source": [
    "meta_columns = ['Category', 'Sum', 'Cluster', 'Count', 'Market share', 'Category share', 'Lifetime Min', 'Lifetime Max', 'Clothing type', 'Fibre composition sum']\n",
    "fibers = df.columns[~df.columns.isin(meta_columns)].tolist()\n",
    "fibers"
   ]
  },
  {
   "cell_type": "code",
   "execution_count": 25,
   "id": "36cdb4e2",
   "metadata": {},
   "outputs": [],
   "source": [
    "ModelClassification  = {} # Create dictionary of model classifications\n",
    "\n",
    "ModelClassification['Time'] = msc.Classification(\n",
    "    Name='Time',\n",
    "    Dimension='Time',\n",
    "    ID=1,\n",
    "    Items=list(np.arange(2015,2025))\n",
    ")\n",
    "\n",
    "ModelClassification['Element'] = msc.Classification(\n",
    "    Name='Fibers',\n",
    "    Dimension='Element',\n",
    "    ID=2,\n",
    "    Items=[\"Acrylic\", \"Cotton\", \"Polyamide/nylon\", \"Polyester\", \"Silk\", \"Viscose\", \"Wool\", \"Animal hair\"]\n",
    ")\n",
    "\n",
    "ModelClassification[\"Clothing\"] = msc.Classification(\n",
    "    Name='Clothing Type',\n",
    "    Dimension='Clothing',\n",
    "    ID=3,\n",
    "    Items = clothing_type,\n",
    ")   \n",
    "\n",
    "Model_Time_Start = int(min(ModelClassification['Time'].Items))\n",
    "Model_Time_End   = int(max(ModelClassification['Time'].Items))\n",
    "Model_Duration   = Model_Time_End - Model_Time_Start"
   ]
  },
  {
   "cell_type": "code",
   "execution_count": 26,
   "id": "24e3a5d9",
   "metadata": {},
   "outputs": [
    {
     "data": {
      "text/html": [
       "<div>\n",
       "<style scoped>\n",
       "    .dataframe tbody tr th:only-of-type {\n",
       "        vertical-align: middle;\n",
       "    }\n",
       "\n",
       "    .dataframe tbody tr th {\n",
       "        vertical-align: top;\n",
       "    }\n",
       "\n",
       "    .dataframe thead th {\n",
       "        text-align: right;\n",
       "    }\n",
       "</style>\n",
       "<table border=\"1\" class=\"dataframe\">\n",
       "  <thead>\n",
       "    <tr style=\"text-align: right;\">\n",
       "      <th></th>\n",
       "      <th>Description</th>\n",
       "      <th>Dimension</th>\n",
       "      <th>Classification</th>\n",
       "      <th>IndexLetter</th>\n",
       "    </tr>\n",
       "    <tr>\n",
       "      <th>Aspect</th>\n",
       "      <th></th>\n",
       "      <th></th>\n",
       "      <th></th>\n",
       "      <th></th>\n",
       "    </tr>\n",
       "  </thead>\n",
       "  <tbody>\n",
       "    <tr>\n",
       "      <th>Time</th>\n",
       "      <td>Model aspect \"time\"</td>\n",
       "      <td>Time</td>\n",
       "      <td>&lt;odym.classes.classification.Classification ob...</td>\n",
       "      <td>t</td>\n",
       "    </tr>\n",
       "    <tr>\n",
       "      <th>Element</th>\n",
       "      <td>Model aspect \"fiber type\"</td>\n",
       "      <td>Element</td>\n",
       "      <td>&lt;odym.classes.classification.Classification ob...</td>\n",
       "      <td>e</td>\n",
       "    </tr>\n",
       "    <tr>\n",
       "      <th>Clothing</th>\n",
       "      <td>Model aspect \"clothing type\"</td>\n",
       "      <td>Clothing</td>\n",
       "      <td>&lt;odym.classes.classification.Classification ob...</td>\n",
       "      <td>c</td>\n",
       "    </tr>\n",
       "  </tbody>\n",
       "</table>\n",
       "</div>"
      ],
      "text/plain": [
       "                           Description Dimension  \\\n",
       "Aspect                                             \n",
       "Time               Model aspect \"time\"      Time   \n",
       "Element      Model aspect \"fiber type\"   Element   \n",
       "Clothing  Model aspect \"clothing type\"  Clothing   \n",
       "\n",
       "                                             Classification IndexLetter  \n",
       "Aspect                                                                   \n",
       "Time      <odym.classes.classification.Classification ob...           t  \n",
       "Element   <odym.classes.classification.Classification ob...           e  \n",
       "Clothing  <odym.classes.classification.Classification ob...           c  "
      ]
     },
     "execution_count": 26,
     "metadata": {},
     "output_type": "execute_result"
    }
   ],
   "source": [
    "IndexTable = pd.DataFrame({'Aspect'        : ['Time','Element','Clothing'], # 'Time' and 'Element' must be present!\n",
    "                           'Description'   : ['Model aspect \"time\"', 'Model aspect \"fiber type\"', 'Model aspect \"clothing type\"'],\n",
    "                           'Dimension'     : ['Time','Element','Clothing'], # 'Time' and 'Element' are also dimensions\n",
    "                           'Classification': [ModelClassification[Aspect] for Aspect in ['Time','Element', 'Clothing']],\n",
    "                           'IndexLetter'   : ['t','e','c']}) # Unique one letter (upper or lower case) indices to be used later for calculations.\n",
    "\n",
    "IndexTable.set_index('Aspect', inplace = True) # Default indexing of IndexTable, other indices are produced on the fly\n",
    "\n",
    "IndexTable"
   ]
  },
  {
   "cell_type": "code",
   "execution_count": 27,
   "id": "ece1f588",
   "metadata": {},
   "outputs": [],
   "source": [
    "Dyn_MFA_System = msc.MFAsystem(\n",
    "    Name='Clothing Cycle in Households', \n",
    "    Geogr_Scope='Denmark', \n",
    "    Unit='kt', \n",
    "    ProcessList=[], \n",
    "    FlowDict={}, \n",
    "    StockDict={},\n",
    "    ParameterDict={}, \n",
    "    Time_Start=Model_Time_Start, \n",
    "    Time_End=Model_Time_End, \n",
    "    IndexTable=IndexTable, \n",
    "    Elements=IndexTable.loc['Element'].Classification.Items\n",
    ")"
   ]
  },
  {
   "cell_type": "code",
   "execution_count": 28,
   "id": "656d64c1",
   "metadata": {},
   "outputs": [
    {
     "data": {
      "text/plain": [
       "[<odym.classes.process.Process at 0x1ea5c7be910>,\n",
       " <odym.classes.process.Process at 0x1ea5c7bee90>,\n",
       " <odym.classes.process.Process at 0x1ea5c7bd710>,\n",
       " <odym.classes.process.Process at 0x1ea5c7bcfd0>,\n",
       " <odym.classes.process.Process at 0x1ea5c7bf810>]"
      ]
     },
     "execution_count": 28,
     "metadata": {},
     "output_type": "execute_result"
    }
   ],
   "source": [
    "# Start with empty process list, only process numbers (IDs) and names are needed.\n",
    "Dyn_MFA_System.ProcessList = [] \n",
    "Dyn_MFA_System.ProcessList.append(msc.Process(Name = 'Environment' , ID   = 0))\n",
    "Dyn_MFA_System.ProcessList.append(msc.Process(Name = 'Store'    , ID   = 1))\n",
    "Dyn_MFA_System.ProcessList.append(msc.Process(Name = 'Consumer'  , ID   = 2))\n",
    "Dyn_MFA_System.ProcessList.append(msc.Process(Name = 'Sorting Facility'   , ID   = 3))\n",
    "Dyn_MFA_System.ProcessList.append(msc.Process(Name = 'Recycling Facility'   , ID   = 4))\n",
    "\n",
    "# Print list of processes:\n",
    "Dyn_MFA_System.ProcessList"
   ]
  },
  {
   "cell_type": "code",
   "execution_count": 29,
   "id": "9835c44a",
   "metadata": {},
   "outputs": [
    {
     "ename": "SyntaxError",
     "evalue": "incomplete input (3244768649.py, line 4)",
     "output_type": "error",
     "traceback": [
      "  \u001b[36mCell\u001b[39m\u001b[36m \u001b[39m\u001b[32mIn[29]\u001b[39m\u001b[32m, line 4\u001b[39m\n\u001b[31m    \u001b[39m\u001b[31mPar_Clothing_Production = msc.Parameter(\u001b[39m\n                                            ^\n\u001b[31mSyntaxError\u001b[39m\u001b[31m:\u001b[39m incomplete input\n"
     ]
    }
   ],
   "source": [
    "Par_Recycling_Share = msc.Parameter(0.5)\n",
    "Par_Reuse_Share = msc.Parameter(0.1)\n",
    "\n",
    "Par_Clothing_Production = msc.Parameter("
   ]
  }
 ],
 "metadata": {
  "kernelspec": {
   "display_name": "venv",
   "language": "python",
   "name": "python3"
  },
  "language_info": {
   "codemirror_mode": {
    "name": "ipython",
    "version": 3
   },
   "file_extension": ".py",
   "mimetype": "text/x-python",
   "name": "python",
   "nbconvert_exporter": "python",
   "pygments_lexer": "ipython3",
   "version": "3.11.8"
  }
 },
 "nbformat": 4,
 "nbformat_minor": 5
}
